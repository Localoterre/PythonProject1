{
  "nbformat": 4,
  "nbformat_minor": 0,
  "metadata": {
    "colab": {
      "provenance": []
    },
    "kernelspec": {
      "name": "python3",
      "display_name": "Python 3"
    },
    "language_info": {
      "name": "python"
    }
  },
  "cells": [
    {
      "cell_type": "markdown",
      "source": [
        "# I. Змінні та памʼять."
      ],
      "metadata": {
        "id": "p9wwt0LZzNvn"
      }
    },
    {
      "cell_type": "markdown",
      "source": [
        "1. Створити змінні, що посилаються на два цілих числа, що однакові за значенням, де значення належить проміжку від -5 до 256. Перевірте, чи будуть ці змінні рівні тільки за значенням або ж ще будуть посилатися на один і той самий обʼєкт в памʼяті? Наведіть код та дайте текстову відповідь нижче."
      ],
      "metadata": {
        "id": "HTJrrm95xSV9"
      }
    },
    {
      "cell_type": "code",
      "execution_count": null,
      "metadata": {
        "id": "TATni2vzayjG",
        "colab": {
          "base_uri": "https://localhost:8080/"
        },
        "outputId": "c174c2fc-cca7-483d-b908-e093bfe29cab"
      },
      "outputs": [
        {
          "output_type": "stream",
          "name": "stdout",
          "text": [
            "Values equal: True\n",
            "Objects same: True\n"
          ]
        }
      ],
      "source": [
        "a = 100\n",
        "b = 100\n",
        "values_equal = a == b\n",
        "objects_same = a is b\n",
        "print(f'Values equal: {values_equal}')\n",
        "print(f'Objects same: {objects_same}')"
      ]
    },
    {
      "cell_type": "markdown",
      "source": [
        "Змінні будуть рівні за значенням, оскільки ми призначаємо їм однакові значення.\n",
        "Змінні також будуть посилатися на один і той самий об'єкт в пам'яті, оскільки цілі числа в діапазоні від -5 до 256 в Python кешуються, і змінні, що посилаються на ці числа, будуть вказувати на один і той самий об'єкт."
      ],
      "metadata": {
        "id": "zfRG_o3WbRdg"
      }
    },
    {
      "cell_type": "markdown",
      "source": [
        "2. За допомогою якої функції можна перевірити належність змінної до вказаного типу даних (напр. чи змінна True посилається на значення булевого та цілочисленого типу)?"
      ],
      "metadata": {
        "id": "ISORzt6M3vAt"
      }
    },
    {
      "cell_type": "code",
      "source": [
        "variable = True\n",
        "is_bool_or_int = isinstance(variable, (bool, int))\n",
        "print(f'Variable is bool or int: {is_bool_or_int}')"
      ],
      "metadata": {
        "id": "9vL9CFaMbfyo"
      },
      "execution_count": null,
      "outputs": []
    },
    {
      "cell_type": "markdown",
      "source": [
        "# II. Цілі числа та числа з рухомою комою"
      ],
      "metadata": {
        "id": "tRxugKAxwYLw"
      }
    },
    {
      "cell_type": "markdown",
      "source": [
        "3. Створити дві змінні, що посилаються на будь-які ціле число та число з рухомою комою та продемонструвати такі арифметичні операції: додавання, віднімання, ділення, множення, ділення без залишку, ділення по модулю, приведення до ступеню. Всі результати операцій вивести на екран."
      ],
      "metadata": {
        "id": "NLHkgd5Gybc8"
      }
    },
    {
      "cell_type": "code",
      "source": [
        "integer_variable = 5\n",
        "float_variable = 2.5\n",
        "\n",
        "# Arithmetic operations\n",
        "addition_result = integer_variable + float_variable\n",
        "subtraction_result = integer_variable - float_variable\n",
        "division_result = integer_variable / float_variable\n",
        "multiplication_result = integer_variable * float_variable\n",
        "floor_division_result = integer_variable // float_variable\n",
        "modulo_result = integer_variable % float_variable\n",
        "exponentiation_result = integer_variable ** float_variable\n",
        "print(f'Addition: {addition_result}')\n",
        "print(f'Subtraction: {subtraction_result}')\n",
        "print(f'Division: {division_result}')\n",
        "print(f'Multiplication: {multiplication_result}')\n",
        "print(f'Floor Division: {floor_division_result}')\n",
        "print(f'Modulo: {modulo_result}')\n",
        "print(f'Exponentiation: {exponentiation_result}')"
      ],
      "metadata": {
        "id": "nb8u_3pjb2cA",
        "colab": {
          "base_uri": "https://localhost:8080/"
        },
        "outputId": "06966505-eb25-4a0b-a452-9f90bf2a9fe9"
      },
      "execution_count": 1,
      "outputs": [
        {
          "output_type": "stream",
          "name": "stdout",
          "text": [
            "Addition: 7.5\n",
            "Subtraction: 2.5\n",
            "Division: 2.0\n",
            "Multiplication: 12.5\n",
            "Floor Division: 2.0\n",
            "Modulo: 0.0\n",
            "Exponentiation: 55.90169943749474\n"
          ]
        }
      ]
    },
    {
      "cell_type": "markdown",
      "source": [
        "4. Використовуючи змінні з вправи 3, продемонструйте механізм явного перетворення типів, де числа з рухомою комою перетворюються на цілі числа. Також визначте змінну, що посилається на значення булевого типу і спробуйте явно привести її до цілого числа."
      ],
      "metadata": {
        "id": "1kBClKgPzZnC"
      }
    },
    {
      "cell_type": "code",
      "source": [
        "integer_variable = 5\n",
        "float_variable = 2.5\n",
        "boolean_variable = True\n",
        "converted_float_to_int = int(float_variable)\n",
        "converted_boolean_to_int = int(boolean_variable)\n",
        "\n",
        "print(f'Float to int: {converted_float_to_int}')\n",
        "print(f'Boolean to int: {converted_boolean_to_int}')"
      ],
      "metadata": {
        "id": "TbqJbkeUcKsD"
      },
      "execution_count": null,
      "outputs": []
    },
    {
      "cell_type": "markdown",
      "source": [
        "# IІІ. Рядки (String)."
      ],
      "metadata": {
        "id": "EVJ7AflwxrZi"
      }
    },
    {
      "cell_type": "markdown",
      "source": [
        "5. Створити пустий рядок двома різними способами."
      ],
      "metadata": {
        "id": "_s5ECzz9zE61"
      }
    },
    {
      "cell_type": "code",
      "source": [
        "empty_string_1 = str()\n",
        "empty_string_2 = ''\n",
        "print(empty_string_1)\n",
        "print(empty_string_2)"
      ],
      "metadata": {
        "id": "fkZJHu9Scvc-"
      },
      "execution_count": null,
      "outputs": []
    },
    {
      "cell_type": "markdown",
      "source": [
        "6. Створити рядок з апострофом. Зробити його сирим. Вивести обидва рядка на екран."
      ],
      "metadata": {
        "id": "4Bdn9J3MzLf_"
      }
    },
    {
      "cell_type": "code",
      "source": [
        "string_with_apostrophe = 'String with an apostrophe: \\''\n",
        "raw_string_with_apostrophe = r'String with an apostrophe: \\''\n",
        "print(string_with_apostrophe)\n",
        "print(raw_string_with_apostrophe)"
      ],
      "metadata": {
        "id": "ivji_hsmc0GH"
      },
      "execution_count": null,
      "outputs": []
    },
    {
      "cell_type": "markdown",
      "source": [
        "7. Створити змінну, що буде посилатися на Ваше прізвище латинкою. Створити форматований рядок, який буде мати вигляд \"My surname is ______\", де на місці нижніх підкреслень буде Ваше прізвище зі змінної."
      ],
      "metadata": {
        "id": "bg_d8wM4z8dS"
      }
    },
    {
      "cell_type": "code",
      "source": [
        "surname = 'Шилов Артем'\n",
        "formatted_string = f'My surname is {surname}'\n",
        "\n",
        "print(formatted_string)"
      ],
      "metadata": {
        "id": "kuxFgpWndACq"
      },
      "execution_count": null,
      "outputs": []
    },
    {
      "cell_type": "markdown",
      "source": [
        "8. Маючи рядок \"My dog is crazy.\" перетворити його на список [\"my\", \"dog\", \"is\", \"crazy\"]"
      ],
      "metadata": {
        "id": "1Nc6RqvQ0hxU"
      }
    },
    {
      "cell_type": "code",
      "source": [
        "original_string = \"My dog is crazy.\"\n",
        "word_list = original_string.lower().split()\n",
        "\n",
        "print(word_list)"
      ],
      "metadata": {
        "id": "w1Ya4RqedUhw"
      },
      "execution_count": null,
      "outputs": []
    },
    {
      "cell_type": "markdown",
      "source": [
        "# IV. Робота зі списками."
      ],
      "metadata": {
        "id": "GYVqN9uP1D4n"
      }
    },
    {
      "cell_type": "markdown",
      "source": [
        "9. Створити список двома різними за синтаксисом способами. За допомогою вбудованої функції обчисліть довжину одного з них."
      ],
      "metadata": {
        "id": "7-DeDunw2sO-"
      }
    },
    {
      "cell_type": "code",
      "source": [
        "list_1 = [1, 2, 3, 4, 5]\n",
        "list_2 = list(range(1, 6))\n",
        "length_of_list = len(list_1)\n",
        "print(length_of_list)"
      ],
      "metadata": {
        "id": "zxg06Uuxdyoh"
      },
      "execution_count": null,
      "outputs": []
    },
    {
      "cell_type": "markdown",
      "source": [
        "10. Створіть два списка та за допомогою спеціального методу додайте другий з них в якості останнього елемента першого."
      ],
      "metadata": {
        "id": "8vmGUTjL22gI"
      }
    },
    {
      "cell_type": "code",
      "source": [
        "list_1 = [1, 2, 3]\n",
        "list_2 = [4, 5, 6]\n",
        "list_1.append(list_2)\n",
        "print(list_1)"
      ],
      "metadata": {
        "id": "uHtjWYw7d7hm"
      },
      "execution_count": null,
      "outputs": []
    },
    {
      "cell_type": "markdown",
      "source": [
        "11. Створіть список, де елементами цього списку також є списки. Отримай перший елемент з останнього рядка та виведи значення на екран."
      ],
      "metadata": {
        "id": "JC3BkD-67_--"
      }
    },
    {
      "cell_type": "code",
      "source": [
        "list_of_lists = [[1, 2, 3], [4, 5, 6], [7, 8, 9]]\n",
        "first_element_last_row = list_of_lists[-1][0]\n",
        "print(first_element_last_row)"
      ],
      "metadata": {
        "id": "Kz2jZHsGeLlz"
      },
      "execution_count": null,
      "outputs": []
    },
    {
      "cell_type": "markdown",
      "source": [
        "12. Створіть список з десяти елементів різного типу. Отримайте всі елементи, окрім двох перших та двох останніх та збережіть їх в новій змінній."
      ],
      "metadata": {
        "id": "JA47PKTv8zFK"
      }
    },
    {
      "cell_type": "code",
      "source": [
        "mixed_list = [1, 'two', 3.0, True, [5, 6], 'seven', 8, False, 9.5, 'ten']\n",
        "new_list = mixed_list[2:-2]\n",
        "print(new_list)"
      ],
      "metadata": {
        "id": "_rHdUR-ueP4-"
      },
      "execution_count": null,
      "outputs": []
    },
    {
      "cell_type": "markdown",
      "source": [
        "# V. Робота з кортежами."
      ],
      "metadata": {
        "id": "pCjR1dJb1Qbi"
      }
    },
    {
      "cell_type": "markdown",
      "source": [
        "14. Створити кортеж з один елементом."
      ],
      "metadata": {
        "id": "fAZCxAX06R_k"
      }
    },
    {
      "cell_type": "code",
      "source": [
        "single_element_tuple = (42,)"
      ],
      "metadata": {
        "id": "H7d82WkQev3e"
      },
      "execution_count": null,
      "outputs": []
    },
    {
      "cell_type": "markdown",
      "source": [
        "15. Порівняйте список та кортеж. Назвіть схожості та відмінності, випадки використання."
      ],
      "metadata": {
        "id": "8LCtYcmI6w1M"
      }
    },
    {
      "cell_type": "markdown",
      "source": [
        "Списки і кортежі обидва зберігають дані, дозволяють доступ за індексом та ітерацію. Списки можна змінювати (мутабельні), кортежі - ні (немутабельні). Синтаксис створення різний: списки - [], кортежі - (). Кортежі зазвичай ефективніше використовувати за рахунок меншого обсягу пам'яті та швидшого доступу. Вибір між ними залежить від потреб вашої задачі: якщо потрібна змінна структура - використовуйте список, якщо дані фіксовані - кортеж.\n",
        "\n",
        "> Indented block\n",
        "\n"
      ],
      "metadata": {
        "id": "fUsN1Hnue0C6"
      }
    },
    {
      "cell_type": "markdown",
      "source": [
        "16. Створіть кортеж з 11ти елементів чисел з рухомою комою та отримайте кожен парний за індексом елемент в зворотньому порядку. Наприклад, маючи (1.2, 2.3, 3.3, 4.3, 5.3, 6.3, 7.3, 8.3, 9.3, 0.3), отримати (0.3, 8.3, 6.3, 4.3, 2.3). Результат збережіть в нову змінну та виведіть на екран."
      ],
      "metadata": {
        "id": "m0xrwFijAmDD"
      }
    },
    {
      "cell_type": "code",
      "source": [
        "numbers_tuple = (1.2, 2.3, 3.3, 4.3, 5.3, 6.3, 7.3, 8.3, 9.3, 0.3)\n",
        "result_tuple = numbers_tuple[-2::-2]\n",
        "print(result_tuple)"
      ],
      "metadata": {
        "id": "p-5DAH6XfAGA"
      },
      "execution_count": null,
      "outputs": []
    },
    {
      "cell_type": "markdown",
      "source": [
        "# VI. Множини (Set)."
      ],
      "metadata": {
        "id": "rW_I9dt3x6cW"
      }
    },
    {
      "cell_type": "markdown",
      "source": [
        "17. Створити множину без елементів. Після цого за допомогою методу додайте кілька різних елементів до множини. Чи множини є змінним типом даних?"
      ],
      "metadata": {
        "id": "zNjRLHLw1Bgg"
      }
    },
    {
      "cell_type": "code",
      "source": [
        "empty_set = set()\n",
        "empty_set.add(1)\n",
        "empty_set.add('apple')\n",
        "empty_set.add(True)"
      ],
      "metadata": {
        "id": "KOv7zc2Kfo4N"
      },
      "execution_count": null,
      "outputs": []
    },
    {
      "cell_type": "markdown",
      "source": [
        "Так, множини є змінним типом даних. Множини в Python є мутабельними, тобто їх можна змінювати після створення, додавати та видаляти елементи."
      ],
      "metadata": {
        "id": "vxS6dVYiftZQ"
      }
    },
    {
      "cell_type": "markdown",
      "source": [
        "18. Створити множину, маючи список my_list = [1, 1, 2, 67, 67, 8, 9]. Пояснити, чому \"зникли\" деякі елементи."
      ],
      "metadata": {
        "id": "gHpT0Zw_1HEF"
      }
    },
    {
      "cell_type": "code",
      "source": [
        "my_list = [1, 1, 2, 67, 67, 8, 9]\n",
        "# Creating a set from the list\n",
        "unique_set = set(my_list)\n",
        "print(unique_set)"
      ],
      "metadata": {
        "id": "qCN4uvJ_fxmu"
      },
      "execution_count": null,
      "outputs": []
    },
    {
      "cell_type": "markdown",
      "source": [
        "\n",
        "Елементи \"зникли\", оскільки множина в Python не може містити дублікатів. Під час створення множини зі списку автоматично видаляються всі повторювані значення. Таким чином, в утвореній множині лишаються лише унікальні елементи, а всі дублікати відсутні."
      ],
      "metadata": {
        "id": "tFNc1e20fyny"
      }
    },
    {
      "cell_type": "markdown",
      "source": [
        "19. Створіть дві множини. Продемонстуйте над ними операції: обʼєднання, різниці, пересічі та симетричної різниці. Використовуйте методи, що не змінюють множини, а створюють нові."
      ],
      "metadata": {
        "id": "SRMkGizS1UwY"
      }
    },
    {
      "cell_type": "code",
      "source": [
        "set1 = {1, 2, 3, 4, 5}\n",
        "set2 = {3, 4, 5, 6, 7}\n",
        "union_result = set1.union(set2)\n",
        "print(f'Union: {union_result}')\n",
        "difference_result = set1.difference(set2)\n",
        "print(f'Difference: {difference_result}')\n",
        "intersection_result = set1.intersection(set2)\n",
        "print(f'Intersection: {intersection_result}')\n",
        "symmetric_difference_result = set1.symmetric_difference(set2)\n",
        "print(f'Symmetric Difference: {symmetric_difference_result}')"
      ],
      "metadata": {
        "id": "h0T-VuDnf3Ri",
        "colab": {
          "base_uri": "https://localhost:8080/"
        },
        "outputId": "e0b41597-8c0b-4d15-a27c-055b6e71167c"
      },
      "execution_count": 2,
      "outputs": [
        {
          "output_type": "stream",
          "name": "stdout",
          "text": [
            "Union: {1, 2, 3, 4, 5, 6, 7}\n",
            "Difference: {1, 2}\n",
            "Intersection: {3, 4, 5}\n",
            "Symmetric Difference: {1, 2, 6, 7}\n"
          ]
        }
      ]
    },
    {
      "cell_type": "markdown",
      "source": [
        "# VII. Словники (Dictionary)."
      ],
      "metadata": {
        "id": "kWc8gkzTx7Ea"
      }
    },
    {
      "cell_type": "markdown",
      "source": [
        "20. Створіть пустий словник. До нього додайте чотири пари елементів такі, щоб їхні ключі були різних типів. Чи може список бути ключем? Чому?"
      ],
      "metadata": {
        "id": "i5FLwj-B2ybQ"
      }
    },
    {
      "cell_type": "code",
      "source": [
        "my_dict = {}\n",
        "my_dict[1] = 'one'\n",
        "my_dict['two'] = 2\n",
        "my_dict[3.0] = 'three'\n",
        "my_dict[(4, 5)] = 'four'\n",
        "# Attempting to use a list as a key would result in a TypeError.\n",
        "# my_dict[[6, 7]] = 'six'\n",
        "print(my_dict)"
      ],
      "metadata": {
        "id": "hxgv3BzrgLAV"
      },
      "execution_count": null,
      "outputs": []
    },
    {
      "cell_type": "markdown",
      "source": [
        "Так, можна створити словник з ключами різних типів, такими як цілі числа, рядки, числа з рухомою комою і кортежі. Проте список не може бути ключем у словнику, оскільки списки є мутабельними (змінюваними) і не можуть бути хешованими, що обов'язково для ключів словника в Python."
      ],
      "metadata": {
        "id": "zwa7UVN-gR3m"
      }
    },
    {
      "cell_type": "markdown",
      "source": [
        "21. Створіть словник, де значенням в одній з пар теж буде словник, який теж має вкладений словник. Виведіть на екран значення, що міститься в словнику, що знаходиться на найнижчому рівні ієрархії вкладеності (найбільш внутрішній)."
      ],
      "metadata": {
        "id": "WM_pMlJsgoNf"
      }
    },
    {
      "cell_type": "code",
      "source": [
        "print({'key1': 'value1', 'key2': {'key3': 'value3', 'key4': {'key5': 'value5', 'key6': 'value6'}}}['key2']['key4']['key6'])\n"
      ],
      "metadata": {
        "id": "60dlP7IHhAy4",
        "colab": {
          "base_uri": "https://localhost:8080/"
        },
        "outputId": "b5f215b8-9431-4287-df9a-c01295c3eb9e"
      },
      "execution_count": 4,
      "outputs": [
        {
          "output_type": "stream",
          "name": "stdout",
          "text": [
            "value6\n"
          ]
        }
      ]
    },
    {
      "cell_type": "markdown",
      "source": [
        "# Вітаю! Ви велика(ий) молодець, що впоралась(вся). Похваліть себе та побалуйте чимось приємним. Я Вами пишаюся."
      ],
      "metadata": {
        "id": "xOZP0hkx6cCr"
      }
    }
  ]
}