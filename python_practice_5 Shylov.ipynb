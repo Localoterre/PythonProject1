{
  "nbformat": 4,
  "nbformat_minor": 0,
  "metadata": {
    "colab": {
      "provenance": []
    },
    "kernelspec": {
      "name": "python3",
      "display_name": "Python 3"
    },
    "language_info": {
      "name": "python"
    }
  },
  "cells": [
    {
      "cell_type": "markdown",
      "source": [
        "# I. OOP"
      ],
      "metadata": {
        "id": "5qV_sehzFCTp"
      }
    },
    {
      "cell_type": "markdown",
      "source": [
        "1. (6б). Створіть клас Animal, додайте три атрибути, один з яких має значення за замовчуванням та два методи на свій розсуд."
      ],
      "metadata": {
        "id": "tx_U_hOALyfg"
      }
    },
    {
      "cell_type": "code",
      "source": [
        "class Animal:\n",
        "    def __init__(self, species, color=\"unknown\", age=0):\n",
        "        self.species = species\n",
        "        self.color = color\n",
        "        self.age = age\n",
        "    def display_info(self):\n",
        "        print(f\"This {self.species} is {self.color} in color and is {self.age} years old.\")\n",
        "    def birthday(self):\n",
        "        self.age += 1\n",
        "        print(f\"Happy birthday! The {self.species} is now {self.age} years old.\")\n",
        "dog = Animal(\"Dog\", \"brown\", 3)\n",
        "cat = Animal(\"Cat\", \"gray\", 2)\n",
        "dog.display_info()\n",
        "cat.display_info()\n",
        "dog.birthday()\n",
        "cat.birthday()\n",
        "dog.display_info()\n",
        "cat.display_info()"
      ],
      "metadata": {
        "id": "-Vf895KaL88N"
      },
      "execution_count": null,
      "outputs": []
    },
    {
      "cell_type": "markdown",
      "source": [
        "2. (2б). Створіть два обʼєкти цього класу, де один з обʼєктів створюється із дефолтним значенням атрибуту. На одному обʼєкті отримайте значення його атрибуту, а на іншому викличте один з його методів."
      ],
      "metadata": {
        "id": "X_UlOMB0L93w"
      }
    },
    {
      "cell_type": "code",
      "source": [
        "class Animal:\n",
        "    def __init__(self, species, color=\"unknown\", age=0):\n",
        "        self.species = species\n",
        "        self.color = color\n",
        "        self.age = age\n",
        "    def display_info(self):\n",
        "        print(f\"Species: {self.species}, Color: {self.color}, Age: {self.age}\")\n",
        "    def birthday(self):\n",
        "        self.age += 1\n",
        "        print(f\"Happy Birthday! {self.species} is now {self.age} years old.\")\n",
        "animal_default = Animal(species=\"Dog\")\n",
        "animal_custom = Animal(species=\"Cat\", color=\"gray\", age=2)\n",
        "print(f\"Color of animal_default: {animal_default.color}\")\n",
        "animal_custom.display_info()"
      ],
      "metadata": {
        "id": "7gBu0ESOMCpG"
      },
      "execution_count": null,
      "outputs": []
    },
    {
      "cell_type": "markdown",
      "source": [
        "3. (5б). Створіть клас, де атрибути мають різні рівні доступу. Спробуйте отримати їхні значення та опишіть результати."
      ],
      "metadata": {
        "id": "HoqSCZt1MHn5"
      }
    },
    {
      "cell_type": "code",
      "source": [
        "class MyClass:\n",
        "    def __init__(self):\n",
        "        self.public_attr = \"I'm public!\"\n",
        "        self._protected_attr = \"I'm protected!\"\n",
        "        self.__private_attr = \"I'm private!\"\n",
        "    def display_attrs(self):\n",
        "        print(f\"Public attribute: {self.public_attr}\")\n",
        "        print(f\"Protected attribute: {self._protected_attr}\")\n",
        "        print(f\"Private attribute: {self.__private_attr}\")\n",
        "my_object = MyClass()\n",
        "print(\"Accessing attributes directly:\")\n",
        "print(my_object.public_attr)\n",
        "print(my_object._protected_attr)\n",
        "print(\"\\nAccessing attributes through a method:\")\n",
        "my_object.display_attrs()"
      ],
      "metadata": {
        "id": "r9b3vJxBMSPV"
      },
      "execution_count": null,
      "outputs": []
    },
    {
      "cell_type": "markdown",
      "source": [
        "4. (7б). Як ви розумієте термін self? Для чого використовується метод __init __?"
      ],
      "metadata": {
        "id": "5op2m2vgMSkZ"
      }
    },
    {
      "cell_type": "markdown",
      "source": [
        "Термін self вказує на екземпляр класу, до якого зараз звертається метод чи атрибут. Використовується для доступу до атрибутів та методів класу всередині його ж методів.Метод __init__ є конструктором класу, який викликається автоматично при створенні нового екземпляру класу. Використовується для ініціалізації атрибутів об'єкта, задавання їм початкових значень."
      ],
      "metadata": {
        "id": "DyiPqNRvMasx"
      }
    },
    {
      "cell_type": "markdown",
      "source": [
        "5. (9б). Створіть клас Фігура без атрибутів, з методом get_area для отримання площі фігури, що повертає 0 та __add __, який приймає self та other в якості аргументів, а повертає суму площин фігур self та other."
      ],
      "metadata": {
        "id": "-6X8EGfjMd2y"
      }
    },
    {
      "cell_type": "code",
      "source": [
        "class Figure:\n",
        "    def get_area(self):\n",
        "        return 0\n",
        "    def __add__(self, other):\n",
        "        return self.get_area() + other.get_area()\n",
        "figure1 = Figure()\n",
        "figure2 = Figure()\n",
        "area_sum = figure1 + figure2\n",
        "print(f\"Sum of areas: {area_sum}\")"
      ],
      "metadata": {
        "id": "4rvO_wYUMaEr"
      },
      "execution_count": null,
      "outputs": []
    },
    {
      "cell_type": "markdown",
      "source": [
        "6. (11б). Створіть 2 дочірніх класи від Фігури: Трикутник та Коло, які мають атрибути, необхідні для розрахунку площин. Визначте метод get_area в кожному з них так, щоби вони розраховували площу в залежності від формули для кожного типу фігури. Створіть обʼєкт класу Трикутник та обʼєкт класу Коло. Виконайте операцію суми за допомогою оператора + між ними."
      ],
      "metadata": {
        "id": "SFcKnnv5Mo_z"
      }
    },
    {
      "cell_type": "code",
      "source": [
        "class Figure:\n",
        "    def get_area(self):\n",
        "        return 0\n",
        "    def __add__(self, other):\n",
        "        return self.get_area() + other.get_area()\n",
        "class Triangle(Figure):\n",
        "    def __init__(self, base, height):\n",
        "        self.base = base\n",
        "        self.height = height\n",
        "    def get_area(self):\n",
        "        return 0.5 * self.base * self.height\n",
        "class Circle(Figure):\n",
        "    def __init__(self, radius):\n",
        "        self.radius = radius\n",
        "    def get_area(self):\n",
        "        return 3.14 * self.radius**2\n",
        "triangle = Triangle(base=5, height=8)\n",
        "circle = Circle(radius=4)\n",
        "area_sum = triangle + circle\n",
        "print(f\"Sum of areas: {area_sum}\")"
      ],
      "metadata": {
        "id": "H3GVNr69Muf3"
      },
      "execution_count": null,
      "outputs": []
    },
    {
      "cell_type": "markdown",
      "source": [
        "7. (3б). Продемонструйте різницю між isinstance та issubclass."
      ],
      "metadata": {
        "id": "HCvR206YMvLK"
      }
    },
    {
      "cell_type": "code",
      "source": [
        "class Animal:\n",
        "    pass\n",
        "class Dog(Animal):\n",
        "    pass\n",
        "dog_instance = Dog()\n",
        "animal_instance = Animal()\n",
        "print(isinstance(dog_instance, Dog))    # True\n",
        "print(isinstance(animal_instance, Dog)) # False\n",
        "print(isinstance(animal_instance, Animal)) # True\n",
        "\n",
        "# issubclass\n",
        "print(issubclass(Dog, Animal))  # True\n",
        "print(issubclass(Animal, Dog))  # False\n",
        "print(issubclass(Animal, object))  # True"
      ],
      "metadata": {
        "id": "L_V1bBvDM0GN"
      },
      "execution_count": null,
      "outputs": []
    },
    {
      "cell_type": "markdown",
      "source": [
        "8. (13б). Створіть клас BankAccount з приватними атрибутами balance та account_number. Реалізуйте методи поповнення та зняття коштів, забезпечивши належну інкапсуляцію. Підказка: використовуйте декоратори property та setter."
      ],
      "metadata": {
        "id": "jjsaBZ-iM0Qq"
      }
    },
    {
      "cell_type": "code",
      "source": [
        "class BankAccount:\n",
        "    def __init__(self, account_number, initial_balance=0):\n",
        "        self._account_number = account_number\n",
        "        self._balance = initial_balance\n",
        "    def balance(self):\n",
        "        return self._balance\n",
        "    def account_number(self):\n",
        "        return self._account_number\n",
        "    def account_info(self):\n",
        "        return f\"Account Number: {self._account_number}, Balance: {self._balance}\"\n",
        "    def is_balance_positive(self):\n",
        "        return self._balance > 0\n",
        "    def is_balance_negative(self):\n",
        "        return self._balance < 0\n",
        "    def is_balance_zero(self):\n",
        "        return self._balance == 0\n",
        "    def deposit(self, amount):\n",
        "        if amount > 0:\n",
        "            self._balance += amount\n",
        "            print(f\"Deposited ${amount}. New balance: ${self._balance}\")\n",
        "        else:\n",
        "            print(\"Invalid deposit amount. Please deposit a positive amount.\")\n",
        "\n",
        "    def withdraw(self, amount):\n",
        "        if amount > 0 and amount <= self._balance:\n",
        "            self._balance -= amount\n",
        "            print(f\"Withdrew ${amount}. New balance: ${self._balance}\")\n",
        "        else:\n",
        "            print(\"Invalid withdrawal amount or insufficient funds.\")\n",
        "account1 = BankAccount(\"123456\", 1000)\n",
        "print(account1.account_info)\n",
        "account1.deposit(500)\n",
        "account1.withdraw(200)\n",
        "print(account1.account_info)"
      ],
      "metadata": {
        "id": "xCvZ7lh8M7YA"
      },
      "execution_count": null,
      "outputs": []
    },
    {
      "cell_type": "markdown",
      "source": [
        "9. (11б). Створіть клас Library, який містить список об'єктів типу Book. Реалізуйте методи для додавання книги, видалення книги та відображення списку книг."
      ],
      "metadata": {
        "id": "tIzL2SJTM8ft"
      }
    },
    {
      "cell_type": "code",
      "source": [
        "class Book:\n",
        "    def __init__(self, title, author):\n",
        "        self.title = title\n",
        "        self.author = author\n",
        "class Library:\n",
        "    def __init__(self):\n",
        "        self.books = []\n",
        "    def add_book(self, title, author):\n",
        "        new_book = Book(title, author)\n",
        "        self.books.append(new_book)\n",
        "        print(f\"Book '{title}' by {author} added to the library.\")\n",
        "    def remove_book(self, title, author):\n",
        "        for book in self.books:\n",
        "            if book.title == title and book.author == author:\n",
        "                self.books.remove(book)\n",
        "                print(f\"Book '{title}' by {author} removed from the library.\")\n",
        "                return\n",
        "        print(f\"Book '{title}' by {author} not found in the library.\")\n",
        "    def display_books(self):\n",
        "        if not self.books:\n",
        "            print(\"The library is empty.\")\n",
        "        else:\n",
        "            print(\"List of books in the library:\")\n",
        "            for book in self.books:\n",
        "                print(f\"{book.title} by {book.author}\")\n",
        "library = Library()\n",
        "library.add_book(\"The Great Gatsby\", \"F. Scott Fitzgerald\")\n",
        "library.add_book(\"To Kill a Mockingbird\", \"Harper Lee\")\n",
        "library.display_books()\n",
        "library.remove_book(\"The Great Gatsby\", \"F. Scott Fitzgerald\")\n",
        "library.display_books()"
      ],
      "metadata": {
        "id": "HWxfJKLtNAUZ"
      },
      "execution_count": null,
      "outputs": []
    },
    {
      "cell_type": "markdown",
      "source": [
        "10. (13б). Створіть клас Person з атрибутами name та age. Створіть ще один клас Employee з такими атрибутами, як department та salary. Створіть клас Manager, який успадковує обидва класи Person та Employee. Продемонструйте використання множинної спадковості, створивши обʼєкт класу Manager та отримавши mro для цього класу."
      ],
      "metadata": {
        "id": "lmV8pAwwNIqu"
      }
    },
    {
      "cell_type": "code",
      "source": [
        "class Person:\n",
        "    def __init__(self, name, age):\n",
        "        self.name = name\n",
        "        self.age = age\n",
        "class Employee:\n",
        "    def __init__(self, department, salary):\n",
        "        self.department = department\n",
        "        self.salary = salary\n",
        "class Manager(Person, Employee):\n",
        "    def __init__(self, name, age, department, salary):\n",
        "        Person.__init__(self, name, age)\n",
        "        Employee.__init__(self, department, salary)\n",
        "manager = Manager(\"John Doe\", 35, \"HR\", 50000)\n",
        "print(manager.name)\n",
        "print(manager.age)\n",
        "print(manager.department)\n",
        "print(manager.salary)\n",
        "print(Manager.mro())"
      ],
      "metadata": {
        "id": "R49grKlWNPeN"
      },
      "execution_count": null,
      "outputs": []
    },
    {
      "cell_type": "markdown",
      "source": [
        "# II. Iterator"
      ],
      "metadata": {
        "id": "dIJyUiNBFG8G"
      }
    },
    {
      "cell_type": "markdown",
      "source": [
        "11. (4б). Визначте рядок(str) з 4ма різними за значенням символами. Створіть ітератор на основі цього рядка. Викличте 5 разів функцію next на ітераторі, 4ри перших з них огорніть у ф-цію print()."
      ],
      "metadata": {
        "id": "13vsm0NyKIzL"
      }
    },
    {
      "cell_type": "code",
      "source": [
        "my_string = \"abcd\"\n",
        "my_iterator = iter(my_string)\n",
        "print(next(my_iterator))\n",
        "print(next(my_iterator))\n",
        "print(next(my_iterator))\n",
        "print(next(my_iterator))\n",
        "print(next(my_iterator))"
      ],
      "metadata": {
        "id": "81ntabAkKuz-"
      },
      "execution_count": null,
      "outputs": []
    },
    {
      "cell_type": "markdown",
      "source": [
        "А що якщо викликати цю ж функцію на рядку?"
      ],
      "metadata": {
        "id": "aekWHGXOLRsO"
      }
    },
    {
      "cell_type": "code",
      "source": [
        "my_string = \"abcd\"\n",
        "try:\n",
        "    result = next(my_string)\n",
        "    print(result)\n",
        "except TypeError as e:\n",
        "    print(f\"TypeError: {e}\")"
      ],
      "metadata": {
        "id": "mxATGsErLV1i"
      },
      "execution_count": null,
      "outputs": []
    },
    {
      "cell_type": "markdown",
      "source": [
        " 12. (5б). Опишіть своїми словами в одному реченні, як ви розумієте різницю між ітерабельними обʼєктами та ітераторами (можна на прикладі)."
      ],
      "metadata": {
        "id": "XwtMEopwJ4pH"
      }
    },
    {
      "cell_type": "markdown",
      "source": [
        "Ітерабельні об'єкти, які можна перебрати, а ітератори це об'єкти, які втілюють логіку перебору елементів і пам'ятають свій поточний стан, дозволяючи послідовно отримувати значення, якщо їх необхідно, і зберігаючи внутрішній стан перебору. Наприклад, список є ітерабельним об'єктом, а ітератором для нього може бути об'єкт, який відстежує поточний індекс і повертає значення при кожному виклику next()."
      ],
      "metadata": {
        "id": "-sHrODc3KFn8"
      }
    },
    {
      "cell_type": "markdown",
      "source": [
        "13. (11б). Створіть клас, що має визначений Iterator Protocol та при кожному виклику next повертає літери англійської абетки, поки вони не вичерпаються."
      ],
      "metadata": {
        "id": "E9qJWmNbK8Gl"
      }
    },
    {
      "cell_type": "code",
      "source": [
        "class AlphabetIterator:\n",
        "    def __init__(self):\n",
        "        self.current_letter = ord('A')\n",
        "    def __iter__(self):\n",
        "        return self\n",
        "    def __next__(self):\n",
        "        if self.current_letter <= ord('Z'):\n",
        "            letter = chr(self.current_letter)\n",
        "            self.current_letter += 1\n",
        "            return letter\n",
        "        else:\n",
        "            raise StopIteration\n",
        "alphabet_iterator = AlphabetIterator()\n",
        "for letter in alphabet_iterator:\n",
        "    print(letter)"
      ],
      "metadata": {
        "id": "cqx-g_RsLo6I"
      },
      "execution_count": null,
      "outputs": []
    },
    {
      "cell_type": "markdown",
      "source": [
        "# Вітаю! Ви велика(ий) молодець, що впоралась(вся). Похваліть себе та побалуйте чимось приємним. Я Вами пишаюся."
      ],
      "metadata": {
        "id": "Z3E3S_s1Fv7-"
      }
    }
  ]
}